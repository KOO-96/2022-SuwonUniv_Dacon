{
  "nbformat": 4,
  "nbformat_minor": 0,
  "metadata": {
    "colab": {
      "provenance": [],
      "include_colab_link": true
    },
    "kernelspec": {
      "name": "python3",
      "display_name": "Python 3"
    },
    "language_info": {
      "name": "python"
    }
  },
  "cells": [
    {
      "cell_type": "markdown",
      "metadata": {
        "id": "view-in-github",
        "colab_type": "text"
      },
      "source": [
        "<a href=\"https://colab.research.google.com/github/KOO-96/2022-SuwonUniv_Dacon/blob/main/siksu/%ED%8C%8C%EC%9D%B4%EC%8D%AC_%EA%B3%BC%EC%A0%9C1_ipynb.ipynb\" target=\"_parent\"><img src=\"https://colab.research.google.com/assets/colab-badge.svg\" alt=\"Open In Colab\"/></a>"
      ]
    },
    {
      "cell_type": "markdown",
      "source": [
        "# 문제1"
      ],
      "metadata": {
        "id": "-8R3xtOpbEL9"
      }
    },
    {
      "cell_type": "markdown",
      "source": [
        "-임의의 자연수 x가 주어질 때, x가 홀수인지 짝수인지 판별하는 함수작성"
      ],
      "metadata": {
        "id": "iRwEU7qRbXIA"
      }
    },
    {
      "cell_type": "code",
      "source": [
        "def func(x):\n",
        "  if x%2 == 0:\n",
        "    print('짝수')\n",
        "  else:\n",
        "    print('홀수')"
      ],
      "metadata": {
        "id": "SIewE7P1ccUc"
      },
      "execution_count": null,
      "outputs": []
    },
    {
      "cell_type": "code",
      "source": [
        "func(10)"
      ],
      "metadata": {
        "colab": {
          "base_uri": "https://localhost:8080/"
        },
        "id": "h2IVWuCvf8ic",
        "outputId": "8e25aa76-8c61-4c07-a1ca-396e34644633"
      },
      "execution_count": null,
      "outputs": [
        {
          "output_type": "stream",
          "name": "stdout",
          "text": [
            "짝수\n"
          ]
        }
      ]
    },
    {
      "cell_type": "code",
      "source": [
        "func(11)"
      ],
      "metadata": {
        "colab": {
          "base_uri": "https://localhost:8080/"
        },
        "id": "76yf5nZLf8mU",
        "outputId": "ce62c978-c655-49af-a54a-e041aab2893a"
      },
      "execution_count": null,
      "outputs": [
        {
          "output_type": "stream",
          "name": "stdout",
          "text": [
            "홀수\n"
          ]
        }
      ]
    },
    {
      "cell_type": "markdown",
      "source": [
        "# 문제2"
      ],
      "metadata": {
        "id": "1d_OvBcOcexH"
      }
    },
    {
      "cell_type": "markdown",
      "source": [
        "### 없는 숫자 더하기\n",
        "0부터 9까지의 숫자 중 일부가 들어있는 정수 배열 numbers가 매개변수로 주어집니다.\n",
        "numbers에서 찾을 수 없는 0부터 9까지의 숫자를 모두 찾아 더한 수를 return하도록 func함수 완성하기."
      ],
      "metadata": {
        "id": "6tkSOczgce23"
      }
    },
    {
      "cell_type": "code",
      "source": [
        "def func(x):\n",
        "  num = list(range(10))\n",
        "  return sum(num) - sum(x)"
      ],
      "metadata": {
        "id": "CBV3Z-dPcfAL"
      },
      "execution_count": null,
      "outputs": []
    },
    {
      "cell_type": "code",
      "source": [
        "func([1,2,3,4,6,7,8,0])"
      ],
      "metadata": {
        "colab": {
          "base_uri": "https://localhost:8080/"
        },
        "id": "h7mqB_p0f4O7",
        "outputId": "109b6e18-7648-4ed0-a7f3-1143eceb7770"
      },
      "execution_count": null,
      "outputs": [
        {
          "output_type": "execute_result",
          "data": {
            "text/plain": [
              "14"
            ]
          },
          "metadata": {},
          "execution_count": 11
        }
      ]
    },
    {
      "cell_type": "code",
      "source": [
        "func([5,8,4,0,6,7,9])"
      ],
      "metadata": {
        "colab": {
          "base_uri": "https://localhost:8080/"
        },
        "id": "6JVizyJAf4YQ",
        "outputId": "a009d787-54e9-475e-ea18-c2767ae6ee5c"
      },
      "execution_count": null,
      "outputs": [
        {
          "output_type": "execute_result",
          "data": {
            "text/plain": [
              "6"
            ]
          },
          "metadata": {},
          "execution_count": 12
        }
      ]
    },
    {
      "cell_type": "markdown",
      "source": [
        "#문제3"
      ],
      "metadata": {
        "id": "VB-uh2korObB"
      }
    },
    {
      "cell_type": "markdown",
      "source": [
        "###콜라츠 추측\n",
        "- 입력된 수가 짝수라면 2로 나눕니다.\n",
        "- 입력된 수가 홀수라면 3을 곱하고 1을 더합니다.\n",
        "- 결과로 나온 수에 같은 작업을 1이 될 때까지 반복합니다. 1이 될 때까지 작업 실행 횟수 반환\n",
        "- 단, 주어진 수가 1인 경우에는 0을,\n",
        "  작업을 500번 반복할 때까지 1이 되지 않는다면 -1을 반환한다."
      ],
      "metadata": {
        "id": "Kji5VoyZrOj_"
      }
    },
    {
      "cell_type": "code",
      "source": [
        "def func(x):\n",
        "    for i in range(501):\n",
        "      if x%2 == 0:\n",
        "        x = x / 2\n",
        "      else:\n",
        "        x = (x * 3) + 1\n",
        "      if x == 1:\n",
        "        return i + 1\n",
        "    return -1"
      ],
      "metadata": {
        "id": "GN0rUrbGcfEA"
      },
      "execution_count": null,
      "outputs": []
    },
    {
      "cell_type": "code",
      "source": [
        "func(6)"
      ],
      "metadata": {
        "colab": {
          "base_uri": "https://localhost:8080/"
        },
        "id": "Nm8xc6qOgEUD",
        "outputId": "66352be9-51b2-4ac0-c4e9-e955f9e2e814"
      },
      "execution_count": null,
      "outputs": [
        {
          "output_type": "execute_result",
          "data": {
            "text/plain": [
              "8"
            ]
          },
          "metadata": {},
          "execution_count": 54
        }
      ]
    },
    {
      "cell_type": "code",
      "source": [
        "func(16)"
      ],
      "metadata": {
        "colab": {
          "base_uri": "https://localhost:8080/"
        },
        "id": "7ae1JkAUgEX5",
        "outputId": "3d01130c-24c5-4dff-a832-3000c8cbf453"
      },
      "execution_count": null,
      "outputs": [
        {
          "output_type": "execute_result",
          "data": {
            "text/plain": [
              "4"
            ]
          },
          "metadata": {},
          "execution_count": 55
        }
      ]
    },
    {
      "cell_type": "code",
      "source": [
        "func(626331)"
      ],
      "metadata": {
        "colab": {
          "base_uri": "https://localhost:8080/"
        },
        "id": "5NklHZW5gIVd",
        "outputId": "e951f944-a38b-4470-8030-0b7a5e80f87a"
      },
      "execution_count": null,
      "outputs": [
        {
          "output_type": "execute_result",
          "data": {
            "text/plain": [
              "-1"
            ]
          },
          "metadata": {},
          "execution_count": 56
        }
      ]
    },
    {
      "cell_type": "markdown",
      "source": [
        "#문제4"
      ],
      "metadata": {
        "id": "mbRIBXlIuI71"
      }
    },
    {
      "cell_type": "markdown",
      "source": [
        "### 하샤드 수\n",
        "- 양의 정수 x가 하샤드 수이려면 x의 자릿수의 합으로 x가 나누어져야 합니다.\n",
        "예를들어 18의 자릿수 합은 1+8 = 9이고, 18은 9로 나누어 떨어지므로 18은 하샤드 수입니다.\n",
        "자연수 x를 입력받아 x가 하샤드 수인지 아닌지 검사하는 함수, solution을 완성해주세요."
      ],
      "metadata": {
        "id": "z_842M_ouI_o"
      }
    },
    {
      "cell_type": "code",
      "source": [
        "def func(x):\n",
        "  split = list(map(int, str(x)))\n",
        "  if (x&sum(split)) == 0:\n",
        "    return True\n",
        "  else:\n",
        "    return False"
      ],
      "metadata": {
        "id": "fRxLwImTuJDM"
      },
      "execution_count": null,
      "outputs": []
    },
    {
      "cell_type": "code",
      "source": [
        "func(10)"
      ],
      "metadata": {
        "colab": {
          "base_uri": "https://localhost:8080/"
        },
        "id": "u2p7oXCYuJHE",
        "outputId": "e25a9c57-c43d-42b0-d55c-ee9557e100c9"
      },
      "execution_count": null,
      "outputs": [
        {
          "output_type": "execute_result",
          "data": {
            "text/plain": [
              "True"
            ]
          },
          "metadata": {},
          "execution_count": 58
        }
      ]
    },
    {
      "cell_type": "code",
      "source": [
        "func(11)"
      ],
      "metadata": {
        "colab": {
          "base_uri": "https://localhost:8080/"
        },
        "id": "TOHbyHFYh7cJ",
        "outputId": "e69112a4-ee10-4cf4-e37d-e031e389ef42"
      },
      "execution_count": null,
      "outputs": [
        {
          "output_type": "execute_result",
          "data": {
            "text/plain": [
              "False"
            ]
          },
          "metadata": {},
          "execution_count": 59
        }
      ]
    },
    {
      "cell_type": "code",
      "source": [
        "func(12)"
      ],
      "metadata": {
        "colab": {
          "base_uri": "https://localhost:8080/"
        },
        "id": "BEsPwqYxh7hN",
        "outputId": "e62dc278-af40-435e-9fad-6433ad19d057"
      },
      "execution_count": null,
      "outputs": [
        {
          "output_type": "execute_result",
          "data": {
            "text/plain": [
              "True"
            ]
          },
          "metadata": {},
          "execution_count": 60
        }
      ]
    },
    {
      "cell_type": "code",
      "source": [
        "func(13)"
      ],
      "metadata": {
        "colab": {
          "base_uri": "https://localhost:8080/"
        },
        "id": "xrPBa-IZh7xf",
        "outputId": "87ac21ed-149b-4da9-dc4f-4ddda7e9e151"
      },
      "execution_count": null,
      "outputs": [
        {
          "output_type": "execute_result",
          "data": {
            "text/plain": [
              "False"
            ]
          },
          "metadata": {},
          "execution_count": 61
        }
      ]
    }
  ]
}