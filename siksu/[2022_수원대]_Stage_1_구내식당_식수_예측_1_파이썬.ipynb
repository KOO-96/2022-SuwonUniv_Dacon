{
  "nbformat": 4,
  "nbformat_minor": 0,
  "metadata": {
    "colab": {
      "provenance": [],
      "toc_visible": true,
      "authorship_tag": "ABX9TyP1eUmM8weS9mSg5P2f2f3Q",
      "include_colab_link": true
    },
    "kernelspec": {
      "name": "python3",
      "display_name": "Python 3"
    },
    "language_info": {
      "name": "python"
    },
    "gpuClass": "standard"
  },
  "cells": [
    {
      "cell_type": "markdown",
      "metadata": {
        "id": "view-in-github",
        "colab_type": "text"
      },
      "source": [
        "<a href=\"https://colab.research.google.com/github/KOO-96/2022-SuwonUniv_Dacon/blob/main/siksu/%5B2022_%EC%88%98%EC%9B%90%EB%8C%80%5D_Stage_1_%EA%B5%AC%EB%82%B4%EC%8B%9D%EB%8B%B9_%EC%8B%9D%EC%88%98_%EC%98%88%EC%B8%A1_1_%ED%8C%8C%EC%9D%B4%EC%8D%AC.ipynb\" target=\"_parent\"><img src=\"https://colab.research.google.com/assets/colab-badge.svg\" alt=\"Open In Colab\"/></a>"
      ]
    },
    {
      "cell_type": "markdown",
      "source": [
        "# 실습환경 셋팅"
      ],
      "metadata": {
        "id": "R_85M2IGQ7hj"
      }
    },
    {
      "cell_type": "code",
      "source": [
        "import pandas as pd"
      ],
      "metadata": {
        "id": "sLyzuBpDRC0k"
      },
      "execution_count": 3,
      "outputs": []
    },
    {
      "cell_type": "code",
      "execution_count": 2,
      "metadata": {
        "colab": {
          "base_uri": "https://localhost:8080/"
        },
        "id": "gkNdKxgJQuVH",
        "outputId": "b34d4efc-1056-49ee-d79a-84a440109132"
      },
      "outputs": [
        {
          "output_type": "stream",
          "name": "stdout",
          "text": [
            "Mounted at /content/drive\n"
          ]
        }
      ],
      "source": [
        "from google.colab import drive\n",
        "drive.mount('/content/drive')"
      ]
    },
    {
      "cell_type": "markdown",
      "source": [
        "## EDA와 모델링에 사용할 데이터프레임 불러오기"
      ],
      "metadata": {
        "id": "xoeucMqDQ4u3"
      }
    },
    {
      "cell_type": "code",
      "source": [
        "df = pd.read_csv('/content/drive/MyDrive/와인/train.csv')\n",
        "df"
      ],
      "metadata": {
        "colab": {
          "base_uri": "https://localhost:8080/",
          "height": 522
        },
        "id": "I4Zi800lQ4yK",
        "outputId": "926ac7d9-11bf-43d3-e3b8-acfada99c04f"
      },
      "execution_count": 4,
      "outputs": [
        {
          "output_type": "execute_result",
          "data": {
            "text/plain": [
              "      index  quality  fixed acidity  volatile acidity  citric acid  \\\n",
              "0         0        5            5.6             0.695         0.06   \n",
              "1         1        5            8.8             0.610         0.14   \n",
              "2         2        5            7.9             0.210         0.39   \n",
              "3         3        6            7.0             0.210         0.31   \n",
              "4         4        6            7.8             0.400         0.26   \n",
              "...     ...      ...            ...               ...          ...   \n",
              "5492   5492        5            7.7             0.150         0.29   \n",
              "5493   5493        6            6.3             0.180         0.36   \n",
              "5494   5494        7            7.8             0.150         0.34   \n",
              "5495   5495        5            6.6             0.410         0.31   \n",
              "5496   5496        6            7.0             0.350         0.17   \n",
              "\n",
              "      residual sugar  chlorides  free sulfur dioxide  total sulfur dioxide  \\\n",
              "0                6.8      0.042                  9.0                  84.0   \n",
              "1                2.4      0.067                 10.0                  42.0   \n",
              "2                2.0      0.057                 21.0                 138.0   \n",
              "3                6.0      0.046                 29.0                 108.0   \n",
              "4                9.5      0.059                 32.0                 178.0   \n",
              "...              ...        ...                  ...                   ...   \n",
              "5492             1.3      0.029                 10.0                  64.0   \n",
              "5493             1.2      0.034                 26.0                 111.0   \n",
              "5494             1.1      0.035                 31.0                  93.0   \n",
              "5495             1.6      0.042                 18.0                 101.0   \n",
              "5496             1.1      0.049                  7.0                 119.0   \n",
              "\n",
              "      density    pH  sulphates  alcohol   type  \n",
              "0     0.99432  3.44       0.44     10.2  white  \n",
              "1     0.99690  3.19       0.59      9.5    red  \n",
              "2     0.99176  3.05       0.52     10.9  white  \n",
              "3     0.99390  3.26       0.50     10.8  white  \n",
              "4     0.99550  3.04       0.43     10.9  white  \n",
              "...       ...   ...        ...      ...    ...  \n",
              "5492  0.99320  3.35       0.39     10.1  white  \n",
              "5493  0.99074  3.16       0.51     11.0  white  \n",
              "5494  0.99096  3.07       0.72     11.3  white  \n",
              "5495  0.99195  3.13       0.41     10.5  white  \n",
              "5496  0.99297  3.13       0.36      9.7  white  \n",
              "\n",
              "[5497 rows x 14 columns]"
            ],
            "text/html": [
              "\n",
              "  <div id=\"df-05ad9b95-4848-44d0-a6fe-08ddcfbd8cfd\">\n",
              "    <div class=\"colab-df-container\">\n",
              "      <div>\n",
              "<style scoped>\n",
              "    .dataframe tbody tr th:only-of-type {\n",
              "        vertical-align: middle;\n",
              "    }\n",
              "\n",
              "    .dataframe tbody tr th {\n",
              "        vertical-align: top;\n",
              "    }\n",
              "\n",
              "    .dataframe thead th {\n",
              "        text-align: right;\n",
              "    }\n",
              "</style>\n",
              "<table border=\"1\" class=\"dataframe\">\n",
              "  <thead>\n",
              "    <tr style=\"text-align: right;\">\n",
              "      <th></th>\n",
              "      <th>index</th>\n",
              "      <th>quality</th>\n",
              "      <th>fixed acidity</th>\n",
              "      <th>volatile acidity</th>\n",
              "      <th>citric acid</th>\n",
              "      <th>residual sugar</th>\n",
              "      <th>chlorides</th>\n",
              "      <th>free sulfur dioxide</th>\n",
              "      <th>total sulfur dioxide</th>\n",
              "      <th>density</th>\n",
              "      <th>pH</th>\n",
              "      <th>sulphates</th>\n",
              "      <th>alcohol</th>\n",
              "      <th>type</th>\n",
              "    </tr>\n",
              "  </thead>\n",
              "  <tbody>\n",
              "    <tr>\n",
              "      <th>0</th>\n",
              "      <td>0</td>\n",
              "      <td>5</td>\n",
              "      <td>5.6</td>\n",
              "      <td>0.695</td>\n",
              "      <td>0.06</td>\n",
              "      <td>6.8</td>\n",
              "      <td>0.042</td>\n",
              "      <td>9.0</td>\n",
              "      <td>84.0</td>\n",
              "      <td>0.99432</td>\n",
              "      <td>3.44</td>\n",
              "      <td>0.44</td>\n",
              "      <td>10.2</td>\n",
              "      <td>white</td>\n",
              "    </tr>\n",
              "    <tr>\n",
              "      <th>1</th>\n",
              "      <td>1</td>\n",
              "      <td>5</td>\n",
              "      <td>8.8</td>\n",
              "      <td>0.610</td>\n",
              "      <td>0.14</td>\n",
              "      <td>2.4</td>\n",
              "      <td>0.067</td>\n",
              "      <td>10.0</td>\n",
              "      <td>42.0</td>\n",
              "      <td>0.99690</td>\n",
              "      <td>3.19</td>\n",
              "      <td>0.59</td>\n",
              "      <td>9.5</td>\n",
              "      <td>red</td>\n",
              "    </tr>\n",
              "    <tr>\n",
              "      <th>2</th>\n",
              "      <td>2</td>\n",
              "      <td>5</td>\n",
              "      <td>7.9</td>\n",
              "      <td>0.210</td>\n",
              "      <td>0.39</td>\n",
              "      <td>2.0</td>\n",
              "      <td>0.057</td>\n",
              "      <td>21.0</td>\n",
              "      <td>138.0</td>\n",
              "      <td>0.99176</td>\n",
              "      <td>3.05</td>\n",
              "      <td>0.52</td>\n",
              "      <td>10.9</td>\n",
              "      <td>white</td>\n",
              "    </tr>\n",
              "    <tr>\n",
              "      <th>3</th>\n",
              "      <td>3</td>\n",
              "      <td>6</td>\n",
              "      <td>7.0</td>\n",
              "      <td>0.210</td>\n",
              "      <td>0.31</td>\n",
              "      <td>6.0</td>\n",
              "      <td>0.046</td>\n",
              "      <td>29.0</td>\n",
              "      <td>108.0</td>\n",
              "      <td>0.99390</td>\n",
              "      <td>3.26</td>\n",
              "      <td>0.50</td>\n",
              "      <td>10.8</td>\n",
              "      <td>white</td>\n",
              "    </tr>\n",
              "    <tr>\n",
              "      <th>4</th>\n",
              "      <td>4</td>\n",
              "      <td>6</td>\n",
              "      <td>7.8</td>\n",
              "      <td>0.400</td>\n",
              "      <td>0.26</td>\n",
              "      <td>9.5</td>\n",
              "      <td>0.059</td>\n",
              "      <td>32.0</td>\n",
              "      <td>178.0</td>\n",
              "      <td>0.99550</td>\n",
              "      <td>3.04</td>\n",
              "      <td>0.43</td>\n",
              "      <td>10.9</td>\n",
              "      <td>white</td>\n",
              "    </tr>\n",
              "    <tr>\n",
              "      <th>...</th>\n",
              "      <td>...</td>\n",
              "      <td>...</td>\n",
              "      <td>...</td>\n",
              "      <td>...</td>\n",
              "      <td>...</td>\n",
              "      <td>...</td>\n",
              "      <td>...</td>\n",
              "      <td>...</td>\n",
              "      <td>...</td>\n",
              "      <td>...</td>\n",
              "      <td>...</td>\n",
              "      <td>...</td>\n",
              "      <td>...</td>\n",
              "      <td>...</td>\n",
              "    </tr>\n",
              "    <tr>\n",
              "      <th>5492</th>\n",
              "      <td>5492</td>\n",
              "      <td>5</td>\n",
              "      <td>7.7</td>\n",
              "      <td>0.150</td>\n",
              "      <td>0.29</td>\n",
              "      <td>1.3</td>\n",
              "      <td>0.029</td>\n",
              "      <td>10.0</td>\n",
              "      <td>64.0</td>\n",
              "      <td>0.99320</td>\n",
              "      <td>3.35</td>\n",
              "      <td>0.39</td>\n",
              "      <td>10.1</td>\n",
              "      <td>white</td>\n",
              "    </tr>\n",
              "    <tr>\n",
              "      <th>5493</th>\n",
              "      <td>5493</td>\n",
              "      <td>6</td>\n",
              "      <td>6.3</td>\n",
              "      <td>0.180</td>\n",
              "      <td>0.36</td>\n",
              "      <td>1.2</td>\n",
              "      <td>0.034</td>\n",
              "      <td>26.0</td>\n",
              "      <td>111.0</td>\n",
              "      <td>0.99074</td>\n",
              "      <td>3.16</td>\n",
              "      <td>0.51</td>\n",
              "      <td>11.0</td>\n",
              "      <td>white</td>\n",
              "    </tr>\n",
              "    <tr>\n",
              "      <th>5494</th>\n",
              "      <td>5494</td>\n",
              "      <td>7</td>\n",
              "      <td>7.8</td>\n",
              "      <td>0.150</td>\n",
              "      <td>0.34</td>\n",
              "      <td>1.1</td>\n",
              "      <td>0.035</td>\n",
              "      <td>31.0</td>\n",
              "      <td>93.0</td>\n",
              "      <td>0.99096</td>\n",
              "      <td>3.07</td>\n",
              "      <td>0.72</td>\n",
              "      <td>11.3</td>\n",
              "      <td>white</td>\n",
              "    </tr>\n",
              "    <tr>\n",
              "      <th>5495</th>\n",
              "      <td>5495</td>\n",
              "      <td>5</td>\n",
              "      <td>6.6</td>\n",
              "      <td>0.410</td>\n",
              "      <td>0.31</td>\n",
              "      <td>1.6</td>\n",
              "      <td>0.042</td>\n",
              "      <td>18.0</td>\n",
              "      <td>101.0</td>\n",
              "      <td>0.99195</td>\n",
              "      <td>3.13</td>\n",
              "      <td>0.41</td>\n",
              "      <td>10.5</td>\n",
              "      <td>white</td>\n",
              "    </tr>\n",
              "    <tr>\n",
              "      <th>5496</th>\n",
              "      <td>5496</td>\n",
              "      <td>6</td>\n",
              "      <td>7.0</td>\n",
              "      <td>0.350</td>\n",
              "      <td>0.17</td>\n",
              "      <td>1.1</td>\n",
              "      <td>0.049</td>\n",
              "      <td>7.0</td>\n",
              "      <td>119.0</td>\n",
              "      <td>0.99297</td>\n",
              "      <td>3.13</td>\n",
              "      <td>0.36</td>\n",
              "      <td>9.7</td>\n",
              "      <td>white</td>\n",
              "    </tr>\n",
              "  </tbody>\n",
              "</table>\n",
              "<p>5497 rows × 14 columns</p>\n",
              "</div>\n",
              "      <button class=\"colab-df-convert\" onclick=\"convertToInteractive('df-05ad9b95-4848-44d0-a6fe-08ddcfbd8cfd')\"\n",
              "              title=\"Convert this dataframe to an interactive table.\"\n",
              "              style=\"display:none;\">\n",
              "        \n",
              "  <svg xmlns=\"http://www.w3.org/2000/svg\" height=\"24px\"viewBox=\"0 0 24 24\"\n",
              "       width=\"24px\">\n",
              "    <path d=\"M0 0h24v24H0V0z\" fill=\"none\"/>\n",
              "    <path d=\"M18.56 5.44l.94 2.06.94-2.06 2.06-.94-2.06-.94-.94-2.06-.94 2.06-2.06.94zm-11 1L8.5 8.5l.94-2.06 2.06-.94-2.06-.94L8.5 2.5l-.94 2.06-2.06.94zm10 10l.94 2.06.94-2.06 2.06-.94-2.06-.94-.94-2.06-.94 2.06-2.06.94z\"/><path d=\"M17.41 7.96l-1.37-1.37c-.4-.4-.92-.59-1.43-.59-.52 0-1.04.2-1.43.59L10.3 9.45l-7.72 7.72c-.78.78-.78 2.05 0 2.83L4 21.41c.39.39.9.59 1.41.59.51 0 1.02-.2 1.41-.59l7.78-7.78 2.81-2.81c.8-.78.8-2.07 0-2.86zM5.41 20L4 18.59l7.72-7.72 1.47 1.35L5.41 20z\"/>\n",
              "  </svg>\n",
              "      </button>\n",
              "      \n",
              "  <style>\n",
              "    .colab-df-container {\n",
              "      display:flex;\n",
              "      flex-wrap:wrap;\n",
              "      gap: 12px;\n",
              "    }\n",
              "\n",
              "    .colab-df-convert {\n",
              "      background-color: #E8F0FE;\n",
              "      border: none;\n",
              "      border-radius: 50%;\n",
              "      cursor: pointer;\n",
              "      display: none;\n",
              "      fill: #1967D2;\n",
              "      height: 32px;\n",
              "      padding: 0 0 0 0;\n",
              "      width: 32px;\n",
              "    }\n",
              "\n",
              "    .colab-df-convert:hover {\n",
              "      background-color: #E2EBFA;\n",
              "      box-shadow: 0px 1px 2px rgba(60, 64, 67, 0.3), 0px 1px 3px 1px rgba(60, 64, 67, 0.15);\n",
              "      fill: #174EA6;\n",
              "    }\n",
              "\n",
              "    [theme=dark] .colab-df-convert {\n",
              "      background-color: #3B4455;\n",
              "      fill: #D2E3FC;\n",
              "    }\n",
              "\n",
              "    [theme=dark] .colab-df-convert:hover {\n",
              "      background-color: #434B5C;\n",
              "      box-shadow: 0px 1px 3px 1px rgba(0, 0, 0, 0.15);\n",
              "      filter: drop-shadow(0px 1px 2px rgba(0, 0, 0, 0.3));\n",
              "      fill: #FFFFFF;\n",
              "    }\n",
              "  </style>\n",
              "\n",
              "      <script>\n",
              "        const buttonEl =\n",
              "          document.querySelector('#df-05ad9b95-4848-44d0-a6fe-08ddcfbd8cfd button.colab-df-convert');\n",
              "        buttonEl.style.display =\n",
              "          google.colab.kernel.accessAllowed ? 'block' : 'none';\n",
              "\n",
              "        async function convertToInteractive(key) {\n",
              "          const element = document.querySelector('#df-05ad9b95-4848-44d0-a6fe-08ddcfbd8cfd');\n",
              "          const dataTable =\n",
              "            await google.colab.kernel.invokeFunction('convertToInteractive',\n",
              "                                                     [key], {});\n",
              "          if (!dataTable) return;\n",
              "\n",
              "          const docLinkHtml = 'Like what you see? Visit the ' +\n",
              "            '<a target=\"_blank\" href=https://colab.research.google.com/notebooks/data_table.ipynb>data table notebook</a>'\n",
              "            + ' to learn more about interactive tables.';\n",
              "          element.innerHTML = '';\n",
              "          dataTable['output_type'] = 'display_data';\n",
              "          await google.colab.output.renderOutput(dataTable, element);\n",
              "          const docLink = document.createElement('div');\n",
              "          docLink.innerHTML = docLinkHtml;\n",
              "          element.appendChild(docLink);\n",
              "        }\n",
              "      </script>\n",
              "    </div>\n",
              "  </div>\n",
              "  "
            ]
          },
          "metadata": {},
          "execution_count": 4
        }
      ]
    },
    {
      "cell_type": "markdown",
      "source": [
        "- 결과물 제출하는 방법\n",
        "> 모델링에 앞서 submission파일의 quality를 임의의 값으로 채워 넣고 csv파일로 만들어서 제출"
      ],
      "metadata": {
        "id": "Gdyn--K4RU1D"
      }
    },
    {
      "cell_type": "code",
      "source": [
        "submission = pd.read_csv('/content/drive/MyDrive/와인/sample_submission.csv')\n",
        "submission"
      ],
      "metadata": {
        "colab": {
          "base_uri": "https://localhost:8080/",
          "height": 424
        },
        "id": "VFjbytOTQ41t",
        "outputId": "2db66f9b-9618-4cad-d98f-e7c9fa3b07c2"
      },
      "execution_count": 6,
      "outputs": [
        {
          "output_type": "execute_result",
          "data": {
            "text/plain": [
              "     index  quality\n",
              "0        0        0\n",
              "1        1        0\n",
              "2        2        0\n",
              "3        3        0\n",
              "4        4        0\n",
              "..     ...      ...\n",
              "995    995        0\n",
              "996    996        0\n",
              "997    997        0\n",
              "998    998        0\n",
              "999    999        0\n",
              "\n",
              "[1000 rows x 2 columns]"
            ],
            "text/html": [
              "\n",
              "  <div id=\"df-0bb94965-f863-438e-9e82-4211af09aedf\">\n",
              "    <div class=\"colab-df-container\">\n",
              "      <div>\n",
              "<style scoped>\n",
              "    .dataframe tbody tr th:only-of-type {\n",
              "        vertical-align: middle;\n",
              "    }\n",
              "\n",
              "    .dataframe tbody tr th {\n",
              "        vertical-align: top;\n",
              "    }\n",
              "\n",
              "    .dataframe thead th {\n",
              "        text-align: right;\n",
              "    }\n",
              "</style>\n",
              "<table border=\"1\" class=\"dataframe\">\n",
              "  <thead>\n",
              "    <tr style=\"text-align: right;\">\n",
              "      <th></th>\n",
              "      <th>index</th>\n",
              "      <th>quality</th>\n",
              "    </tr>\n",
              "  </thead>\n",
              "  <tbody>\n",
              "    <tr>\n",
              "      <th>0</th>\n",
              "      <td>0</td>\n",
              "      <td>0</td>\n",
              "    </tr>\n",
              "    <tr>\n",
              "      <th>1</th>\n",
              "      <td>1</td>\n",
              "      <td>0</td>\n",
              "    </tr>\n",
              "    <tr>\n",
              "      <th>2</th>\n",
              "      <td>2</td>\n",
              "      <td>0</td>\n",
              "    </tr>\n",
              "    <tr>\n",
              "      <th>3</th>\n",
              "      <td>3</td>\n",
              "      <td>0</td>\n",
              "    </tr>\n",
              "    <tr>\n",
              "      <th>4</th>\n",
              "      <td>4</td>\n",
              "      <td>0</td>\n",
              "    </tr>\n",
              "    <tr>\n",
              "      <th>...</th>\n",
              "      <td>...</td>\n",
              "      <td>...</td>\n",
              "    </tr>\n",
              "    <tr>\n",
              "      <th>995</th>\n",
              "      <td>995</td>\n",
              "      <td>0</td>\n",
              "    </tr>\n",
              "    <tr>\n",
              "      <th>996</th>\n",
              "      <td>996</td>\n",
              "      <td>0</td>\n",
              "    </tr>\n",
              "    <tr>\n",
              "      <th>997</th>\n",
              "      <td>997</td>\n",
              "      <td>0</td>\n",
              "    </tr>\n",
              "    <tr>\n",
              "      <th>998</th>\n",
              "      <td>998</td>\n",
              "      <td>0</td>\n",
              "    </tr>\n",
              "    <tr>\n",
              "      <th>999</th>\n",
              "      <td>999</td>\n",
              "      <td>0</td>\n",
              "    </tr>\n",
              "  </tbody>\n",
              "</table>\n",
              "<p>1000 rows × 2 columns</p>\n",
              "</div>\n",
              "      <button class=\"colab-df-convert\" onclick=\"convertToInteractive('df-0bb94965-f863-438e-9e82-4211af09aedf')\"\n",
              "              title=\"Convert this dataframe to an interactive table.\"\n",
              "              style=\"display:none;\">\n",
              "        \n",
              "  <svg xmlns=\"http://www.w3.org/2000/svg\" height=\"24px\"viewBox=\"0 0 24 24\"\n",
              "       width=\"24px\">\n",
              "    <path d=\"M0 0h24v24H0V0z\" fill=\"none\"/>\n",
              "    <path d=\"M18.56 5.44l.94 2.06.94-2.06 2.06-.94-2.06-.94-.94-2.06-.94 2.06-2.06.94zm-11 1L8.5 8.5l.94-2.06 2.06-.94-2.06-.94L8.5 2.5l-.94 2.06-2.06.94zm10 10l.94 2.06.94-2.06 2.06-.94-2.06-.94-.94-2.06-.94 2.06-2.06.94z\"/><path d=\"M17.41 7.96l-1.37-1.37c-.4-.4-.92-.59-1.43-.59-.52 0-1.04.2-1.43.59L10.3 9.45l-7.72 7.72c-.78.78-.78 2.05 0 2.83L4 21.41c.39.39.9.59 1.41.59.51 0 1.02-.2 1.41-.59l7.78-7.78 2.81-2.81c.8-.78.8-2.07 0-2.86zM5.41 20L4 18.59l7.72-7.72 1.47 1.35L5.41 20z\"/>\n",
              "  </svg>\n",
              "      </button>\n",
              "      \n",
              "  <style>\n",
              "    .colab-df-container {\n",
              "      display:flex;\n",
              "      flex-wrap:wrap;\n",
              "      gap: 12px;\n",
              "    }\n",
              "\n",
              "    .colab-df-convert {\n",
              "      background-color: #E8F0FE;\n",
              "      border: none;\n",
              "      border-radius: 50%;\n",
              "      cursor: pointer;\n",
              "      display: none;\n",
              "      fill: #1967D2;\n",
              "      height: 32px;\n",
              "      padding: 0 0 0 0;\n",
              "      width: 32px;\n",
              "    }\n",
              "\n",
              "    .colab-df-convert:hover {\n",
              "      background-color: #E2EBFA;\n",
              "      box-shadow: 0px 1px 2px rgba(60, 64, 67, 0.3), 0px 1px 3px 1px rgba(60, 64, 67, 0.15);\n",
              "      fill: #174EA6;\n",
              "    }\n",
              "\n",
              "    [theme=dark] .colab-df-convert {\n",
              "      background-color: #3B4455;\n",
              "      fill: #D2E3FC;\n",
              "    }\n",
              "\n",
              "    [theme=dark] .colab-df-convert:hover {\n",
              "      background-color: #434B5C;\n",
              "      box-shadow: 0px 1px 3px 1px rgba(0, 0, 0, 0.15);\n",
              "      filter: drop-shadow(0px 1px 2px rgba(0, 0, 0, 0.3));\n",
              "      fill: #FFFFFF;\n",
              "    }\n",
              "  </style>\n",
              "\n",
              "      <script>\n",
              "        const buttonEl =\n",
              "          document.querySelector('#df-0bb94965-f863-438e-9e82-4211af09aedf button.colab-df-convert');\n",
              "        buttonEl.style.display =\n",
              "          google.colab.kernel.accessAllowed ? 'block' : 'none';\n",
              "\n",
              "        async function convertToInteractive(key) {\n",
              "          const element = document.querySelector('#df-0bb94965-f863-438e-9e82-4211af09aedf');\n",
              "          const dataTable =\n",
              "            await google.colab.kernel.invokeFunction('convertToInteractive',\n",
              "                                                     [key], {});\n",
              "          if (!dataTable) return;\n",
              "\n",
              "          const docLinkHtml = 'Like what you see? Visit the ' +\n",
              "            '<a target=\"_blank\" href=https://colab.research.google.com/notebooks/data_table.ipynb>data table notebook</a>'\n",
              "            + ' to learn more about interactive tables.';\n",
              "          element.innerHTML = '';\n",
              "          dataTable['output_type'] = 'display_data';\n",
              "          await google.colab.output.renderOutput(dataTable, element);\n",
              "          const docLink = document.createElement('div');\n",
              "          docLink.innerHTML = docLinkHtml;\n",
              "          element.appendChild(docLink);\n",
              "        }\n",
              "      </script>\n",
              "    </div>\n",
              "  </div>\n",
              "  "
            ]
          },
          "metadata": {},
          "execution_count": 6
        }
      ]
    },
    {
      "cell_type": "code",
      "source": [
        "submission['quality'] = 1\n",
        "submission"
      ],
      "metadata": {
        "id": "_APSMqQOQ45O"
      },
      "execution_count": null,
      "outputs": []
    },
    {
      "cell_type": "code",
      "source": [
        "submission.to_csv('submission.csv', index=False)"
      ],
      "metadata": {
        "id": "7EdJTqpDQ483"
      },
      "execution_count": null,
      "outputs": []
    },
    {
      "cell_type": "markdown",
      "source": [
        "# 파이썬 기초"
      ],
      "metadata": {
        "id": "K8dNEMKfQ5AU"
      }
    },
    {
      "cell_type": "markdown",
      "source": [
        "> 대화형 인터프리터\n",
        "\n",
        "- 인터프리터 : 사용자가 입력한 코드를 실행하는 환경\n",
        "\n",
        "- 대화형 : 입력에 따른 결과값이 바로 출력, 입력과 출력이 번갈아 이어지는게 마치 대화하는거 같아서 대화형 인터프리터라고 부름"
      ],
      "metadata": {
        "id": "aw5FXVBiRf77"
      }
    },
    {
      "cell_type": "markdown",
      "source": [
        "## 기초 문법\n"
      ],
      "metadata": {
        "id": "6opdKHj6Q5Dz"
      }
    },
    {
      "cell_type": "markdown",
      "source": [
        "### 사칙연산"
      ],
      "metadata": {
        "id": "hv7lUrxzVskG"
      }
    },
    {
      "cell_type": "code",
      "source": [
        "1 + 2"
      ],
      "metadata": {
        "colab": {
          "base_uri": "https://localhost:8080/"
        },
        "id": "Ae3QItzSQ5HJ",
        "outputId": "2fd3e903-f915-4f40-aca2-88291400cb99"
      },
      "execution_count": 7,
      "outputs": [
        {
          "output_type": "execute_result",
          "data": {
            "text/plain": [
              "3"
            ]
          },
          "metadata": {},
          "execution_count": 7
        }
      ]
    },
    {
      "cell_type": "code",
      "source": [
        "24/3"
      ],
      "metadata": {
        "colab": {
          "base_uri": "https://localhost:8080/"
        },
        "id": "89tIUczyQ5Kf",
        "outputId": "e6b8d0e3-81ba-4e57-acd8-7a86ddf1b6a6"
      },
      "execution_count": 8,
      "outputs": [
        {
          "output_type": "execute_result",
          "data": {
            "text/plain": [
              "8.0"
            ]
          },
          "metadata": {},
          "execution_count": 8
        }
      ]
    },
    {
      "cell_type": "code",
      "source": [
        "3*8"
      ],
      "metadata": {
        "colab": {
          "base_uri": "https://localhost:8080/"
        },
        "id": "yZGihzfPQ5Nu",
        "outputId": "b4cf5d06-b6a6-4674-f346-2aa1d65018a5"
      },
      "execution_count": 9,
      "outputs": [
        {
          "output_type": "execute_result",
          "data": {
            "text/plain": [
              "24"
            ]
          },
          "metadata": {},
          "execution_count": 9
        }
      ]
    },
    {
      "cell_type": "markdown",
      "source": [
        "- 변수 대입"
      ],
      "metadata": {
        "id": "SV-kj_NtQ5RY"
      }
    },
    {
      "cell_type": "code",
      "source": [
        "a = 3\n",
        "b = 8\n",
        "a+b"
      ],
      "metadata": {
        "colab": {
          "base_uri": "https://localhost:8080/"
        },
        "id": "9In4YnDDQ5Us",
        "outputId": "0867d903-2f71-47ee-c881-9975599e50f8"
      },
      "execution_count": 10,
      "outputs": [
        {
          "output_type": "execute_result",
          "data": {
            "text/plain": [
              "11"
            ]
          },
          "metadata": {},
          "execution_count": 10
        }
      ]
    },
    {
      "cell_type": "code",
      "source": [
        "a*b"
      ],
      "metadata": {
        "colab": {
          "base_uri": "https://localhost:8080/"
        },
        "id": "UbDiVH-rQ5Yj",
        "outputId": "7e671ced-f0fc-4121-88b1-6c3bb8987d9c"
      },
      "execution_count": 11,
      "outputs": [
        {
          "output_type": "execute_result",
          "data": {
            "text/plain": [
              "24"
            ]
          },
          "metadata": {},
          "execution_count": 11
        }
      ]
    },
    {
      "cell_type": "code",
      "source": [
        "b/a"
      ],
      "metadata": {
        "colab": {
          "base_uri": "https://localhost:8080/"
        },
        "id": "BQhjMqY8Q5cA",
        "outputId": "03f64651-0de2-47f5-b96f-b675466739ad"
      },
      "execution_count": 12,
      "outputs": [
        {
          "output_type": "execute_result",
          "data": {
            "text/plain": [
              "2.6666666666666665"
            ]
          },
          "metadata": {},
          "execution_count": 12
        }
      ]
    },
    {
      "cell_type": "markdown",
      "source": [
        "- 변수에 문자 대입하고 출력"
      ],
      "metadata": {
        "id": "yCEuL4CCQ5fR"
      }
    },
    {
      "cell_type": "code",
      "source": [
        "a = 'python'\n",
        "print(a)"
      ],
      "metadata": {
        "id": "AckzbvsXR6pJ"
      },
      "execution_count": null,
      "outputs": []
    },
    {
      "cell_type": "markdown",
      "source": [
        "#### 조건문 if"
      ],
      "metadata": {
        "id": "s38RHg9vR6r4"
      }
    },
    {
      "cell_type": "code",
      "source": [
        "a = 4\n",
        "if a > 2:\n",
        "  print('a는 2보다 크다')\n",
        "else:\n",
        "  print('a는 2보다 작거나 같다')"
      ],
      "metadata": {
        "colab": {
          "base_uri": "https://localhost:8080/"
        },
        "id": "LcXxq_UPR6vO",
        "outputId": "0c039b97-cebb-40ed-ef83-a7a9c1451496"
      },
      "execution_count": 13,
      "outputs": [
        {
          "output_type": "stream",
          "name": "stdout",
          "text": [
            "a는 2보다 크다\n"
          ]
        }
      ]
    },
    {
      "cell_type": "markdown",
      "source": [
        "#### 반복문 for"
      ],
      "metadata": {
        "id": "OaFvgZLCSCxd"
      }
    },
    {
      "cell_type": "code",
      "source": [
        "for a in [1,2,3]:\n",
        "  print(a)"
      ],
      "metadata": {
        "colab": {
          "base_uri": "https://localhost:8080/"
        },
        "id": "029q7p9gR6ya",
        "outputId": "610df5bf-f264-4cfc-e1b7-efe64e616a0e"
      },
      "execution_count": 14,
      "outputs": [
        {
          "output_type": "stream",
          "name": "stdout",
          "text": [
            "1\n",
            "2\n",
            "3\n"
          ]
        }
      ]
    },
    {
      "cell_type": "markdown",
      "source": [
        "#### 반복문 while"
      ],
      "metadata": {
        "id": "L5cOaUZvR61x"
      }
    },
    {
      "cell_type": "code",
      "source": [
        "i = 0\n",
        "while i < 3:\n",
        "  i = i + 1\n",
        "  print(i)"
      ],
      "metadata": {
        "colab": {
          "base_uri": "https://localhost:8080/"
        },
        "id": "Bk11bOvmR65N",
        "outputId": "f956b869-aefa-48fa-a808-a44500b22f13"
      },
      "execution_count": 17,
      "outputs": [
        {
          "output_type": "stream",
          "name": "stdout",
          "text": [
            "1\n",
            "2\n",
            "3\n"
          ]
        }
      ]
    },
    {
      "cell_type": "markdown",
      "source": [
        "#### 함수"
      ],
      "metadata": {
        "id": "NjDC3_o4R68n"
      }
    },
    {
      "cell_type": "code",
      "source": [
        "def add(a, b):\n",
        "  return a+b\n",
        "\n",
        "add(3, 4)"
      ],
      "metadata": {
        "colab": {
          "base_uri": "https://localhost:8080/"
        },
        "id": "rLv9P4D5R6_9",
        "outputId": "91c3a6fa-3960-4de6-aac9-f5d5d3d3b437"
      },
      "execution_count": 16,
      "outputs": [
        {
          "output_type": "execute_result",
          "data": {
            "text/plain": [
              "7"
            ]
          },
          "metadata": {},
          "execution_count": 16
        }
      ]
    },
    {
      "cell_type": "markdown",
      "source": [
        "### 파이썬 자료형 \n",
        "- ' ', \" \"로 사용\n",
        "\n",
        "- 따옴표로 둘러싸인 건 다 문자열\n",
        "\n",
        ">숫자  \n",
        ">문자열  \n",
        ">리스트  \n",
        ">튜플  \n",
        ">딕셔너리  \n",
        ">집합  \n",
        ">불  "
      ],
      "metadata": {
        "id": "V9h6ZRM1R7DS"
      }
    },
    {
      "cell_type": "markdown",
      "source": [
        "- 숫자 \n",
        "\n",
        "정수 : 123, -456, 0\n",
        "\n",
        "실수 : 123.45, -123.45, 3.4e10\n",
        "\n",
        "8진수 : 0o34, 0o25\n",
        "\n",
        "16진수 : 0x2A, 0xFF"
      ],
      "metadata": {
        "id": "xZzr_TXCR7Gs"
      }
    },
    {
      "cell_type": "markdown",
      "source": [
        "- 숫자 연산자\n",
        "\n",
        "사칙연산 ( + - * / )\n",
        "\n",
        "제곱연산 ( ** )\n",
        "\n",
        "나머지 연산 ( % )\n",
        "\n",
        "몫 연산 ( // )"
      ],
      "metadata": {
        "id": "MEQBR4TnR7KL"
      }
    },
    {
      "cell_type": "code",
      "source": [
        "a = 'python'\n",
        "type(a)"
      ],
      "metadata": {
        "colab": {
          "base_uri": "https://localhost:8080/"
        },
        "id": "GEE3RvFfSp0V",
        "outputId": "a1bd1523-312d-4579-89d3-cec857eb4875"
      },
      "execution_count": 18,
      "outputs": [
        {
          "output_type": "execute_result",
          "data": {
            "text/plain": [
              "str"
            ]
          },
          "metadata": {},
          "execution_count": 18
        }
      ]
    },
    {
      "cell_type": "code",
      "source": [
        "a = 123\n",
        "type(a)"
      ],
      "metadata": {
        "colab": {
          "base_uri": "https://localhost:8080/"
        },
        "id": "nyj1apSWSp3w",
        "outputId": "2d258de6-7311-4f76-a3db-77971bc84aa3"
      },
      "execution_count": 19,
      "outputs": [
        {
          "output_type": "execute_result",
          "data": {
            "text/plain": [
              "int"
            ]
          },
          "metadata": {},
          "execution_count": 19
        }
      ]
    },
    {
      "cell_type": "markdown",
      "source": [
        "#### 문자열 연산\n",
        ">더하기  \n",
        ">곱하기  \n",
        ">길이  \n",
        ">인덱싱, 슬라이싱"
      ],
      "metadata": {
        "id": "94u8BDQqSp7H"
      }
    },
    {
      "cell_type": "code",
      "source": [
        "a = 'hello'\n",
        "b = 'world'\n",
        "\n",
        "print(a+b)"
      ],
      "metadata": {
        "colab": {
          "base_uri": "https://localhost:8080/"
        },
        "id": "9y_whEK6Sp-_",
        "outputId": "2cab0dab-dfd5-4b4e-91ad-0a956d3fd986"
      },
      "execution_count": 23,
      "outputs": [
        {
          "output_type": "stream",
          "name": "stdout",
          "text": [
            "helloworld hellohello\n"
          ]
        }
      ]
    },
    {
      "cell_type": "code",
      "source": [
        "print(a*2)"
      ],
      "metadata": {
        "colab": {
          "base_uri": "https://localhost:8080/"
        },
        "id": "jIlMFkJ1SqC3",
        "outputId": "bd8970d7-399b-4850-d97d-37168132eb4d"
      },
      "execution_count": 21,
      "outputs": [
        {
          "output_type": "stream",
          "name": "stdout",
          "text": [
            "hellohello\n"
          ]
        }
      ]
    },
    {
      "cell_type": "code",
      "source": [
        "len(a)"
      ],
      "metadata": {
        "colab": {
          "base_uri": "https://localhost:8080/"
        },
        "id": "7Y_lpds7SqGu",
        "outputId": "22878d8c-61eb-4968-e077-2d1a2b4a6fa6"
      },
      "execution_count": 24,
      "outputs": [
        {
          "output_type": "execute_result",
          "data": {
            "text/plain": [
              "5"
            ]
          },
          "metadata": {},
          "execution_count": 24
        }
      ]
    },
    {
      "cell_type": "code",
      "source": [
        "a[0:2]"
      ],
      "metadata": {
        "colab": {
          "base_uri": "https://localhost:8080/",
          "height": 35
        },
        "id": "1q_2ICo3SqKi",
        "outputId": "9e7a3bdc-9d4c-419c-9554-415d1a5b41fe"
      },
      "execution_count": 25,
      "outputs": [
        {
          "output_type": "execute_result",
          "data": {
            "text/plain": [
              "'he'"
            ],
            "application/vnd.google.colaboratory.intrinsic+json": {
              "type": "string"
            }
          },
          "metadata": {},
          "execution_count": 25
        }
      ]
    },
    {
      "cell_type": "markdown",
      "source": [
        "### 리스트"
      ],
      "metadata": {
        "id": "zQAT6N7jTNgA"
      }
    },
    {
      "cell_type": "code",
      "source": [
        "a = [1,2,3,4,5]\n",
        "print(a)"
      ],
      "metadata": {
        "colab": {
          "base_uri": "https://localhost:8080/"
        },
        "id": "_NizlYKCTM8H",
        "outputId": "b250d083-7749-43f7-d059-6bbeb22fb9f6"
      },
      "execution_count": 26,
      "outputs": [
        {
          "output_type": "stream",
          "name": "stdout",
          "text": [
            "[1, 2, 3, 4, 5]\n"
          ]
        }
      ]
    },
    {
      "cell_type": "markdown",
      "source": [
        "#### 리스트 연산\n",
        ">더하기  \n",
        ">곱하기  \n",
        ">인덱싱과 슬라이싱"
      ],
      "metadata": {
        "id": "uNl-MAt3SqOQ"
      }
    },
    {
      "cell_type": "markdown",
      "source": [
        "### 튜플\n",
        "> 리스트랑 비슷하지만 수정이 불가능하다."
      ],
      "metadata": {
        "id": "_Kiqy-t7TP8k"
      }
    },
    {
      "cell_type": "markdown",
      "source": [
        "### 딕셔너리\n",
        "> key와 value로 구성된 자료형"
      ],
      "metadata": {
        "id": "53i_NK9xTQAB"
      }
    },
    {
      "cell_type": "code",
      "source": [
        "a = {1:'apple',\n",
        "     2:'banana'}\n",
        "a"
      ],
      "metadata": {
        "colab": {
          "base_uri": "https://localhost:8080/"
        },
        "id": "REfFIIXwTQDl",
        "outputId": "698a1afd-dbbc-481c-8d25-fd90a085025f"
      },
      "execution_count": 27,
      "outputs": [
        {
          "output_type": "execute_result",
          "data": {
            "text/plain": [
              "{1: 'apple', 2: 'banana'}"
            ]
          },
          "metadata": {},
          "execution_count": 27
        }
      ]
    },
    {
      "cell_type": "code",
      "source": [
        "a[1]"
      ],
      "metadata": {
        "colab": {
          "base_uri": "https://localhost:8080/",
          "height": 35
        },
        "id": "Y7JiYikiTQG_",
        "outputId": "c820bbfe-c440-44b7-b216-7ff3d695265c"
      },
      "execution_count": 28,
      "outputs": [
        {
          "output_type": "execute_result",
          "data": {
            "text/plain": [
              "'apple'"
            ],
            "application/vnd.google.colaboratory.intrinsic+json": {
              "type": "string"
            }
          },
          "metadata": {},
          "execution_count": 28
        }
      ]
    },
    {
      "cell_type": "code",
      "source": [
        "a[1] = 'melon'\n",
        "a[1]"
      ],
      "metadata": {
        "colab": {
          "base_uri": "https://localhost:8080/",
          "height": 35
        },
        "id": "FqILfQSyTQLJ",
        "outputId": "cc953093-aef4-4c6f-d5f5-0885a40cae03"
      },
      "execution_count": 30,
      "outputs": [
        {
          "output_type": "execute_result",
          "data": {
            "text/plain": [
              "'melon'"
            ],
            "application/vnd.google.colaboratory.intrinsic+json": {
              "type": "string"
            }
          },
          "metadata": {},
          "execution_count": 30
        }
      ]
    },
    {
      "cell_type": "markdown",
      "source": [
        "- 딕셔너리 함수\n",
        ">keys  \n",
        ">values  \n",
        ">items"
      ],
      "metadata": {
        "id": "1sL9hxH7T8Mr"
      }
    },
    {
      "cell_type": "code",
      "source": [
        "a.keys()"
      ],
      "metadata": {
        "colab": {
          "base_uri": "https://localhost:8080/"
        },
        "id": "rhsEFx9ETQSx",
        "outputId": "13ed775a-f0d3-40a0-ecb3-11d31896c5b1"
      },
      "execution_count": 31,
      "outputs": [
        {
          "output_type": "execute_result",
          "data": {
            "text/plain": [
              "dict_keys([1, 2])"
            ]
          },
          "metadata": {},
          "execution_count": 31
        }
      ]
    },
    {
      "cell_type": "code",
      "source": [
        "a.values()"
      ],
      "metadata": {
        "colab": {
          "base_uri": "https://localhost:8080/"
        },
        "id": "SmKeWdAMTQWY",
        "outputId": "31bd6a2f-5679-4819-a89a-3ce4073aaab1"
      },
      "execution_count": 32,
      "outputs": [
        {
          "output_type": "execute_result",
          "data": {
            "text/plain": [
              "dict_values(['melon', 'banana'])"
            ]
          },
          "metadata": {},
          "execution_count": 32
        }
      ]
    },
    {
      "cell_type": "code",
      "source": [
        "a.items()"
      ],
      "metadata": {
        "colab": {
          "base_uri": "https://localhost:8080/"
        },
        "id": "s2Y2Q4peTQaE",
        "outputId": "38ee3dd9-824f-40ff-cc90-a692dd23ab05"
      },
      "execution_count": 33,
      "outputs": [
        {
          "output_type": "execute_result",
          "data": {
            "text/plain": [
              "dict_items([(1, 'melon'), (2, 'banana')])"
            ]
          },
          "metadata": {},
          "execution_count": 33
        }
      ]
    },
    {
      "cell_type": "markdown",
      "source": [
        "### 집합\n",
        "\n",
        "> set : 중복X, 순서X"
      ],
      "metadata": {
        "id": "K9nEO6Q8TQd7"
      }
    },
    {
      "cell_type": "code",
      "source": [
        "a = set('hello')\n",
        "a"
      ],
      "metadata": {
        "colab": {
          "base_uri": "https://localhost:8080/"
        },
        "id": "IF5UebtLTQhm",
        "outputId": "e09566bb-e7d1-4b63-c30a-433bbf5229a8"
      },
      "execution_count": 34,
      "outputs": [
        {
          "output_type": "execute_result",
          "data": {
            "text/plain": [
              "{'e', 'h', 'l', 'o'}"
            ]
          },
          "metadata": {},
          "execution_count": 34
        }
      ]
    },
    {
      "cell_type": "code",
      "source": [
        "a = set([1,2,3,4,5,6])\n",
        "b = set([2,4,6])\n",
        "a"
      ],
      "metadata": {
        "colab": {
          "base_uri": "https://localhost:8080/"
        },
        "id": "ovBSheCbUMEh",
        "outputId": "9b8918cc-e7ce-4767-8106-51bc7909bb6c"
      },
      "execution_count": 35,
      "outputs": [
        {
          "output_type": "execute_result",
          "data": {
            "text/plain": [
              "{1, 2, 3, 4, 5, 6}"
            ]
          },
          "metadata": {},
          "execution_count": 35
        }
      ]
    },
    {
      "cell_type": "markdown",
      "source": [
        "- 집합연산\n",
        ">교집합: &  \n",
        ">합집합: |  \n",
        ">차집합: -"
      ],
      "metadata": {
        "id": "JE_NB-A9UMHx"
      }
    },
    {
      "cell_type": "markdown",
      "source": [
        "### 불(bool)\n",
        "\n",
        "- 불(bool)이란 참(True)과 거짓(False)을 나타내는 자료형이다. 불은 'True - 참', 'False - 거짓' 2가지 값만을 가질 수 있다."
      ],
      "metadata": {
        "id": "Urit_UXxUMK3"
      }
    },
    {
      "cell_type": "code",
      "source": [
        "a = True\n",
        "b = False\n",
        "\n",
        "print(type(a))\n",
        "print(type(b))"
      ],
      "metadata": {
        "colab": {
          "base_uri": "https://localhost:8080/"
        },
        "id": "Lm2ec44gUMOI",
        "outputId": "67457429-b1c5-4d78-fa3d-3b41eec02598"
      },
      "execution_count": 36,
      "outputs": [
        {
          "output_type": "stream",
          "name": "stdout",
          "text": [
            "<class 'bool'>\n",
            "<class 'bool'>\n"
          ]
        }
      ]
    },
    {
      "cell_type": "markdown",
      "source": [
        "- 불 조건문\n",
        ">불 자료형은 조건문의 반환 값으로도 사용"
      ],
      "metadata": {
        "id": "X4d5TBJ7UMRL"
      }
    },
    {
      "cell_type": "code",
      "source": [
        "1 == 1"
      ],
      "metadata": {
        "colab": {
          "base_uri": "https://localhost:8080/"
        },
        "id": "22g2UnDvUMUm",
        "outputId": "8ed4a93b-df6e-447c-938d-98351abb7b51"
      },
      "execution_count": 37,
      "outputs": [
        {
          "output_type": "execute_result",
          "data": {
            "text/plain": [
              "True"
            ]
          },
          "metadata": {},
          "execution_count": 37
        }
      ]
    },
    {
      "cell_type": "code",
      "source": [
        "2 < 1"
      ],
      "metadata": {
        "colab": {
          "base_uri": "https://localhost:8080/"
        },
        "id": "aUUc_Yo2UMX3",
        "outputId": "26dbff19-60d2-4110-f974-5ae095fdf541"
      },
      "execution_count": 38,
      "outputs": [
        {
          "output_type": "execute_result",
          "data": {
            "text/plain": [
              "False"
            ]
          },
          "metadata": {},
          "execution_count": 38
        }
      ]
    },
    {
      "cell_type": "markdown",
      "source": [
        ">if문에서는 조건이 True 일 때 조건이 성립"
      ],
      "metadata": {
        "id": "VxM6gUUwUMbI"
      }
    },
    {
      "cell_type": "code",
      "source": [
        "if a: ##True\n",
        "    print('참')"
      ],
      "metadata": {
        "colab": {
          "base_uri": "https://localhost:8080/"
        },
        "id": "HBp-7ps_UMep",
        "outputId": "3bfea356-b005-45d6-e263-d3c4d5ab7096"
      },
      "execution_count": 40,
      "outputs": [
        {
          "output_type": "stream",
          "name": "stdout",
          "text": [
            "참\n"
          ]
        }
      ]
    },
    {
      "cell_type": "code",
      "source": [
        "if b: ##False\n",
        "    print('거짓')"
      ],
      "metadata": {
        "id": "ms1FOU1zUvbK"
      },
      "execution_count": 42,
      "outputs": []
    },
    {
      "cell_type": "markdown",
      "source": [
        "#### 자료형의 참과 거짓\n",
        ">문자열, 리스트, 튜플, 딕셔너리 등의 값이 비어 있으면(\" \", [ ], ( ), { }) 거짓"
      ],
      "metadata": {
        "id": "dOMTT69ZUveY"
      }
    },
    {
      "cell_type": "code",
      "source": [
        "bool([])"
      ],
      "metadata": {
        "colab": {
          "base_uri": "https://localhost:8080/"
        },
        "id": "qRP6BIFgUvh0",
        "outputId": "1b45a635-8e96-4f61-b9fb-e06cf9c6325a"
      },
      "execution_count": 43,
      "outputs": [
        {
          "output_type": "execute_result",
          "data": {
            "text/plain": [
              "False"
            ]
          },
          "metadata": {},
          "execution_count": 43
        }
      ]
    },
    {
      "cell_type": "code",
      "source": [
        "bool(['123'])"
      ],
      "metadata": {
        "colab": {
          "base_uri": "https://localhost:8080/"
        },
        "id": "7JSZRYQzUvlR",
        "outputId": "0066b389-bae4-49f3-f792-841b7b894f4f"
      },
      "execution_count": 44,
      "outputs": [
        {
          "output_type": "execute_result",
          "data": {
            "text/plain": [
              "True"
            ]
          },
          "metadata": {},
          "execution_count": 44
        }
      ]
    },
    {
      "cell_type": "markdown",
      "source": [
        "# 연습문제1"
      ],
      "metadata": {
        "id": "4jnhP6XzUvol"
      }
    },
    {
      "cell_type": "markdown",
      "source": [
        "> 주어진 딕셔너리에 다음과 같은 지시를 따르시오"
      ],
      "metadata": {
        "id": "J6dB4YoZUvrt"
      }
    },
    {
      "cell_type": "code",
      "source": [
        "students = {'이지은':100,\n",
        "     '강동원':95,\n",
        "     '송강호':90,\n",
        "     '배두나':85,\n",
        "     '이주영':95}\n",
        "     \n",
        "print(\"1번 :\", list(students.values()))\n",
        "print(\"2번 :\", set(students.values()))"
      ],
      "metadata": {
        "colab": {
          "base_uri": "https://localhost:8080/"
        },
        "id": "9pZqdzNTUvyy",
        "outputId": "5d199648-83f0-44aa-a47f-cefc777ff573"
      },
      "execution_count": 46,
      "outputs": [
        {
          "output_type": "stream",
          "name": "stdout",
          "text": [
            "1번 : [100, 95, 90, 85, 95]\n",
            "2번 : {90, 100, 85, 95}\n"
          ]
        }
      ]
    },
    {
      "cell_type": "markdown",
      "source": [
        "이지은 학생의 점수를 문자열 'A+'으로 바꾸시오.\n",
        "items() 함수를 이용하여 딕셔너리를 확인하시오"
      ],
      "metadata": {
        "id": "5RoeY88SUv2I"
      }
    },
    {
      "cell_type": "code",
      "source": [
        "students['이지은'] = 'A+'\n",
        "students.items()"
      ],
      "metadata": {
        "colab": {
          "base_uri": "https://localhost:8080/"
        },
        "id": "iWd7KvstUv5x",
        "outputId": "ba6441eb-26ba-4001-c694-abcd4f8412a9"
      },
      "execution_count": 47,
      "outputs": [
        {
          "output_type": "execute_result",
          "data": {
            "text/plain": [
              "dict_items([('이지은', 'A+'), ('강동원', 95), ('송강호', 90), ('배두나', 85), ('이주영', 95)])"
            ]
          },
          "metadata": {},
          "execution_count": 47
        }
      ]
    },
    {
      "cell_type": "markdown",
      "source": [
        "## 파이썬 제어문\n"
      ],
      "metadata": {
        "id": "NfVaciXgUv9H"
      }
    },
    {
      "cell_type": "markdown",
      "source": [
        "### if문"
      ],
      "metadata": {
        "id": "gKHJfFhDWHlJ"
      }
    },
    {
      "cell_type": "code",
      "source": [
        "a = 10\n",
        "if a > 5:\n",
        "  print('a는 5보다 크다')\n",
        "else :\n",
        "  print('a는 5보다 작거나 같다')"
      ],
      "metadata": {
        "colab": {
          "base_uri": "https://localhost:8080/"
        },
        "id": "6LulWkMgUwAc",
        "outputId": "bad12805-c3f1-41a0-f51b-53d4396de2d9"
      },
      "execution_count": 48,
      "outputs": [
        {
          "output_type": "stream",
          "name": "stdout",
          "text": [
            "a는 5보다 크다\n"
          ]
        }
      ]
    },
    {
      "cell_type": "markdown",
      "source": [
        "### elif문"
      ],
      "metadata": {
        "id": "YUVx0B-SWP0y"
      }
    },
    {
      "cell_type": "code",
      "source": [
        "a = 10\n",
        "if a > 10:\n",
        "    print('a는 10보다 크다')\n",
        "elif a > 5:\n",
        "    print('a는 5보다 크다')\n",
        "else :\n",
        "    print('a는 5보다 작거나 같다')"
      ],
      "metadata": {
        "colab": {
          "base_uri": "https://localhost:8080/"
        },
        "id": "HeEGwFYGUwEJ",
        "outputId": "1a6c15eb-6677-4141-8320-363d0ecc5523"
      },
      "execution_count": 49,
      "outputs": [
        {
          "output_type": "stream",
          "name": "stdout",
          "text": [
            "a는 5보다 크다\n"
          ]
        }
      ]
    },
    {
      "cell_type": "markdown",
      "source": [
        "### while문"
      ],
      "metadata": {
        "id": "4pMK6wTrUwHz"
      }
    },
    {
      "cell_type": "code",
      "source": [
        "i = 0\n",
        "\n",
        "while i < 10:\n",
        "  print(i)\n",
        "  i = i + 1"
      ],
      "metadata": {
        "colab": {
          "base_uri": "https://localhost:8080/"
        },
        "id": "vcKy4ZTeUwLq",
        "outputId": "3759171b-5fb9-4f11-decc-7534bd8f00f2"
      },
      "execution_count": 50,
      "outputs": [
        {
          "output_type": "stream",
          "name": "stdout",
          "text": [
            "0\n",
            "1\n",
            "2\n",
            "3\n",
            "4\n",
            "5\n",
            "6\n",
            "7\n",
            "8\n",
            "9\n"
          ]
        }
      ]
    },
    {
      "cell_type": "markdown",
      "source": [
        ">break\n",
        "\n",
        "- while문 강제로 빠져나가기"
      ],
      "metadata": {
        "id": "geAgqXPjWWe8"
      }
    },
    {
      "cell_type": "code",
      "source": [
        "i = 0\n",
        "\n",
        "while i < 10:\n",
        "  print(i)\n",
        "  i = i + 1\n",
        "  if i == 5:\n",
        "    break"
      ],
      "metadata": {
        "colab": {
          "base_uri": "https://localhost:8080/"
        },
        "id": "4AKhTSPfUwPJ",
        "outputId": "438ab7d9-6187-46a9-f5b8-45b727103b12"
      },
      "execution_count": 53,
      "outputs": [
        {
          "output_type": "stream",
          "name": "stdout",
          "text": [
            "0\n",
            "1\n",
            "2\n",
            "3\n",
            "4\n"
          ]
        }
      ]
    },
    {
      "cell_type": "markdown",
      "source": [
        "### for 문"
      ],
      "metadata": {
        "id": "g4oS6PW9Wf5a"
      }
    },
    {
      "cell_type": "code",
      "source": [
        "for i in range(10):\n",
        "  print(i)"
      ],
      "metadata": {
        "colab": {
          "base_uri": "https://localhost:8080/"
        },
        "id": "4sLIyMNGWn3b",
        "outputId": "36dea7a9-0146-40fb-a886-4a23e77d0c31"
      },
      "execution_count": 52,
      "outputs": [
        {
          "output_type": "stream",
          "name": "stdout",
          "text": [
            "0\n",
            "1\n",
            "2\n",
            "3\n",
            "4\n",
            "5\n",
            "6\n",
            "7\n",
            "8\n",
            "9\n"
          ]
        }
      ]
    },
    {
      "cell_type": "markdown",
      "source": [
        "> continue\n",
        "\n",
        "- for문 안의 문장을 수행하는 도중에 continue문을 만나면 아래 문장 실행 안함"
      ],
      "metadata": {
        "id": "6eetHIWjWgG8"
      }
    },
    {
      "cell_type": "code",
      "source": [
        "for i in range(10):\n",
        "  if i == 5:\n",
        "    continue\n",
        "  print(i)"
      ],
      "metadata": {
        "colab": {
          "base_uri": "https://localhost:8080/"
        },
        "id": "ryzej65MUwSu",
        "outputId": "1b230e97-f50e-485e-e7b2-80c7b78506c2"
      },
      "execution_count": 54,
      "outputs": [
        {
          "output_type": "stream",
          "name": "stdout",
          "text": [
            "0\n",
            "1\n",
            "2\n",
            "3\n",
            "4\n",
            "6\n",
            "7\n",
            "8\n",
            "9\n"
          ]
        }
      ]
    },
    {
      "cell_type": "markdown",
      "source": [
        "### 리스트 컴프리헨션\n",
        ">기존에 배운 문법으로 0부터 9까지 정수를 순서대로 가지고 있는 리스트를 생성하는 코드"
      ],
      "metadata": {
        "id": "GJer1u_5UwWO"
      }
    },
    {
      "cell_type": "code",
      "source": [
        "numbers = []\n",
        "for i in range(10):\n",
        "    numbers.append(i)\n",
        "\n",
        "print(numbers)"
      ],
      "metadata": {
        "colab": {
          "base_uri": "https://localhost:8080/"
        },
        "id": "9ODaBtOpUwZp",
        "outputId": "7bdb0d94-7031-4356-8d1e-c250b08c0437"
      },
      "execution_count": 55,
      "outputs": [
        {
          "output_type": "stream",
          "name": "stdout",
          "text": [
            "[0, 1, 2, 3, 4, 5, 6, 7, 8, 9]\n"
          ]
        }
      ]
    },
    {
      "cell_type": "markdown",
      "source": [
        "> 컴프리헨션으로 표기"
      ],
      "metadata": {
        "id": "uyKrdWZzW3lM"
      }
    },
    {
      "cell_type": "code",
      "source": [
        "[i for i in range(10)]"
      ],
      "metadata": {
        "colab": {
          "base_uri": "https://localhost:8080/"
        },
        "id": "X91UmbozW1CS",
        "outputId": "bcd6b20f-3872-4848-83fd-9f44bc7a194d"
      },
      "execution_count": 56,
      "outputs": [
        {
          "output_type": "execute_result",
          "data": {
            "text/plain": [
              "[0, 1, 2, 3, 4, 5, 6, 7, 8, 9]"
            ]
          },
          "metadata": {},
          "execution_count": 56
        }
      ]
    },
    {
      "cell_type": "code",
      "source": [
        "[i*2 for i in range(10)]"
      ],
      "metadata": {
        "colab": {
          "base_uri": "https://localhost:8080/"
        },
        "id": "GB8_t0vYW1F0",
        "outputId": "79a0376e-862d-4b68-82d0-531a54b43c2a"
      },
      "execution_count": 57,
      "outputs": [
        {
          "output_type": "execute_result",
          "data": {
            "text/plain": [
              "[0, 2, 4, 6, 8, 10, 12, 14, 16, 18]"
            ]
          },
          "metadata": {},
          "execution_count": 57
        }
      ]
    },
    {
      "cell_type": "code",
      "source": [
        "[i for i in range(10) if i % 2 == 0]"
      ],
      "metadata": {
        "colab": {
          "base_uri": "https://localhost:8080/"
        },
        "id": "kX6r4JWGW1JH",
        "outputId": "d5e0ecd4-b1d2-43c0-fdd5-fbd87d30e793"
      },
      "execution_count": 58,
      "outputs": [
        {
          "output_type": "execute_result",
          "data": {
            "text/plain": [
              "[0, 2, 4, 6, 8]"
            ]
          },
          "metadata": {},
          "execution_count": 58
        }
      ]
    },
    {
      "cell_type": "code",
      "source": [
        "[(x, y) for x in ['엽떡', '배떡', '죠떡'] for y in ['허니콤보', '통모짜핫도그']]"
      ],
      "metadata": {
        "colab": {
          "base_uri": "https://localhost:8080/"
        },
        "id": "evTHCTJoW1MU",
        "outputId": "46247a97-6007-4737-a105-4f2121473a5f"
      },
      "execution_count": 59,
      "outputs": [
        {
          "output_type": "execute_result",
          "data": {
            "text/plain": [
              "[('엽떡', '허니콤보'),\n",
              " ('엽떡', '통모짜핫도그'),\n",
              " ('배떡', '허니콤보'),\n",
              " ('배떡', '통모짜핫도그'),\n",
              " ('죠떡', '허니콤보'),\n",
              " ('죠떡', '통모짜핫도그')]"
            ]
          },
          "metadata": {},
          "execution_count": 59
        }
      ]
    },
    {
      "cell_type": "markdown",
      "source": [
        "## 함수"
      ],
      "metadata": {
        "id": "o6FaflAbXCuU"
      }
    },
    {
      "cell_type": "code",
      "source": [
        "ages = ['10대', '20대', '30대', '40대']\n",
        "\n",
        "def change_ages(text:str):\n",
        "  return text[:2]\n",
        "\n",
        "change_ages(ages[0])"
      ],
      "metadata": {
        "id": "i2AYqvp8W1P5"
      },
      "execution_count": null,
      "outputs": []
    },
    {
      "cell_type": "markdown",
      "source": [
        "### 내장함수"
      ],
      "metadata": {
        "id": "ecNPYa7HXWVn"
      }
    },
    {
      "cell_type": "markdown",
      "source": [
        "- int  \n",
        "int형(정수형)으로 바꿔줌\n",
        "\n"
      ],
      "metadata": {
        "id": "OG_1WdNyW1Te"
      }
    },
    {
      "cell_type": "code",
      "source": [
        "ages = ['10대', '20대', '30대', '40대']\n",
        "\n",
        "def change_ages(text:str):\n",
        "  return int(text[:2])\n",
        "\n",
        "change_ages(ages[0])"
      ],
      "metadata": {
        "colab": {
          "base_uri": "https://localhost:8080/"
        },
        "id": "o5QYH2k-XzMx",
        "outputId": "bd9c7c94-17ff-45e4-f0c0-9c35d193b30a"
      },
      "execution_count": 65,
      "outputs": [
        {
          "output_type": "execute_result",
          "data": {
            "text/plain": [
              "10"
            ]
          },
          "metadata": {},
          "execution_count": 65
        }
      ]
    },
    {
      "cell_type": "markdown",
      "source": [
        "- len  \n",
        "길이 반환"
      ],
      "metadata": {
        "id": "B8oGe4rsW1Wx"
      }
    },
    {
      "cell_type": "code",
      "source": [
        "len(ages)"
      ],
      "metadata": {
        "colab": {
          "base_uri": "https://localhost:8080/"
        },
        "id": "WChh6tOcX5uQ",
        "outputId": "37237223-8c47-4a5e-d19b-052d2f27f022"
      },
      "execution_count": 64,
      "outputs": [
        {
          "output_type": "execute_result",
          "data": {
            "text/plain": [
              "4"
            ]
          },
          "metadata": {},
          "execution_count": 64
        }
      ]
    },
    {
      "cell_type": "markdown",
      "source": [
        "- range  \n",
        "특정 범위의 정수 배열 반환"
      ],
      "metadata": {
        "id": "QmDPg3SKW1aa"
      }
    },
    {
      "cell_type": "code",
      "source": [
        "range(10)"
      ],
      "metadata": {
        "colab": {
          "base_uri": "https://localhost:8080/"
        },
        "id": "4DMDFQZUW1dv",
        "outputId": "fe0e8d3b-0b8c-4fe3-833f-1c4d2d9de3c9"
      },
      "execution_count": 66,
      "outputs": [
        {
          "output_type": "execute_result",
          "data": {
            "text/plain": [
              "range(0, 10)"
            ]
          },
          "metadata": {},
          "execution_count": 66
        }
      ]
    },
    {
      "cell_type": "markdown",
      "source": [
        "- list  \n",
        "list형으로 변환"
      ],
      "metadata": {
        "id": "6ACJXTyHX-B2"
      }
    },
    {
      "cell_type": "code",
      "source": [
        "list(range(10))"
      ],
      "metadata": {
        "colab": {
          "base_uri": "https://localhost:8080/"
        },
        "id": "X3IvUjNNX-FO",
        "outputId": "a632bb8c-e896-4d15-f5c8-d4b7e94c34f2"
      },
      "execution_count": 67,
      "outputs": [
        {
          "output_type": "execute_result",
          "data": {
            "text/plain": [
              "[0, 1, 2, 3, 4, 5, 6, 7, 8, 9]"
            ]
          },
          "metadata": {},
          "execution_count": 67
        }
      ]
    },
    {
      "cell_type": "markdown",
      "source": [
        "- map  \n",
        "리스트에 커스텀함수 매칭"
      ],
      "metadata": {
        "id": "3I3bqtPjX-It"
      }
    },
    {
      "cell_type": "code",
      "source": [
        "list(map(change_ages, ages))"
      ],
      "metadata": {
        "colab": {
          "base_uri": "https://localhost:8080/"
        },
        "id": "Dzquk1htX-L9",
        "outputId": "45a073a2-866e-4011-e06b-11196bb00b9d"
      },
      "execution_count": 68,
      "outputs": [
        {
          "output_type": "execute_result",
          "data": {
            "text/plain": [
              "[10, 20, 30, 40]"
            ]
          },
          "metadata": {},
          "execution_count": 68
        }
      ]
    },
    {
      "cell_type": "markdown",
      "source": [
        "- sum  \n",
        "합계 반환"
      ],
      "metadata": {
        "id": "OzX_HlFRYPi_"
      }
    },
    {
      "cell_type": "code",
      "source": [
        "sum(list(map(change_ages, ages)))"
      ],
      "metadata": {
        "colab": {
          "base_uri": "https://localhost:8080/"
        },
        "id": "hOuI2Yr1YPmh",
        "outputId": "d59494c3-b464-4790-d0fa-7be7e3b6a067"
      },
      "execution_count": 69,
      "outputs": [
        {
          "output_type": "execute_result",
          "data": {
            "text/plain": [
              "100"
            ]
          },
          "metadata": {},
          "execution_count": 69
        }
      ]
    },
    {
      "cell_type": "markdown",
      "source": [
        "- max  \n",
        "최댓값 반환"
      ],
      "metadata": {
        "id": "wTNBp1dRYPvA"
      }
    },
    {
      "cell_type": "code",
      "source": [
        "max(list(map(change_ages, ages)))"
      ],
      "metadata": {
        "colab": {
          "base_uri": "https://localhost:8080/"
        },
        "id": "p7IsiNJdYPyi",
        "outputId": "271c7777-541a-43f0-c7ae-c0aa92170201"
      },
      "execution_count": 70,
      "outputs": [
        {
          "output_type": "execute_result",
          "data": {
            "text/plain": [
              "40"
            ]
          },
          "metadata": {},
          "execution_count": 70
        }
      ]
    },
    {
      "cell_type": "markdown",
      "source": [
        "- min  \n",
        "최솟값 반환"
      ],
      "metadata": {
        "id": "FulU6n-DY12L"
      }
    },
    {
      "cell_type": "code",
      "source": [
        "min(list(map(change_ages, ages)))"
      ],
      "metadata": {
        "colab": {
          "base_uri": "https://localhost:8080/"
        },
        "id": "5fwk4yQCY15l",
        "outputId": "ba5ce4d9-a7f8-4859-fe38-c41eb309706e"
      },
      "execution_count": 71,
      "outputs": [
        {
          "output_type": "execute_result",
          "data": {
            "text/plain": [
              "10"
            ]
          },
          "metadata": {},
          "execution_count": 71
        }
      ]
    },
    {
      "cell_type": "markdown",
      "source": [
        "- str  \n",
        "문자열로 변환"
      ],
      "metadata": {
        "id": "A3jpdzPIY2Ht"
      }
    },
    {
      "cell_type": "code",
      "source": [
        "str(min(list(map(change_ages, ages))))"
      ],
      "metadata": {
        "colab": {
          "base_uri": "https://localhost:8080/",
          "height": 35
        },
        "id": "0qlfDyyMY2LL",
        "outputId": "6fd19c32-149c-4e42-b48b-5455ee118546"
      },
      "execution_count": 72,
      "outputs": [
        {
          "output_type": "execute_result",
          "data": {
            "text/plain": [
              "'10'"
            ],
            "application/vnd.google.colaboratory.intrinsic+json": {
              "type": "string"
            }
          },
          "metadata": {},
          "execution_count": 72
        }
      ]
    },
    {
      "cell_type": "markdown",
      "source": [
        "- type  \n",
        "변수 유형 반환"
      ],
      "metadata": {
        "id": "iGpUqFW2Y2Q_"
      }
    },
    {
      "cell_type": "code",
      "source": [
        "type(str(min(list(map(change_ages, ages)))))"
      ],
      "metadata": {
        "colab": {
          "base_uri": "https://localhost:8080/"
        },
        "id": "CspQW1rLY2Ur",
        "outputId": "9366db34-65c9-44bb-f939-91a149e1522c"
      },
      "execution_count": 73,
      "outputs": [
        {
          "output_type": "execute_result",
          "data": {
            "text/plain": [
              "str"
            ]
          },
          "metadata": {},
          "execution_count": 73
        }
      ]
    },
    {
      "cell_type": "markdown",
      "source": [
        "# 연습문제2"
      ],
      "metadata": {
        "id": "VT9GJGgpY9sz"
      }
    },
    {
      "cell_type": "markdown",
      "source": [
        "## 문제 1\n",
        ">fruit_list를 생성하여 다음과 같은 지시를 따르시오."
      ],
      "metadata": {
        "id": "ET80TCQnY9v_"
      }
    },
    {
      "cell_type": "markdown",
      "source": [
        "1) 반복문을 사용하여 과일 이름을 key로 과일의 순서를 value로 갖는 fruit_dict를 생성하시오."
      ],
      "metadata": {
        "id": "a7BOgbPXZPvy"
      }
    },
    {
      "cell_type": "code",
      "source": [
        "fruit_list = ['오렌지', '사과', '딸기', '배', '수박']\n",
        "\n",
        "fruit_dict = {}\n",
        "for i in range(len(fruit_list)):\n",
        "  fruit_dict[fruit_list[i]] = i\n",
        "\n",
        "fruit_dict"
      ],
      "metadata": {
        "colab": {
          "base_uri": "https://localhost:8080/"
        },
        "id": "WVS_eWidZPzV",
        "outputId": "d2b27c89-5aa8-4074-9467-d52589681555"
      },
      "execution_count": 74,
      "outputs": [
        {
          "output_type": "execute_result",
          "data": {
            "text/plain": [
              "{'오렌지': 0, '사과': 1, '딸기': 2, '배': 3, '수박': 4}"
            ]
          },
          "metadata": {},
          "execution_count": 74
        }
      ]
    },
    {
      "cell_type": "markdown",
      "source": [
        "##문제2. \n",
        ">fruit_dict를 사용하여 다음의 지시를 따라 fruit_list를 수정하시오."
      ],
      "metadata": {
        "id": "6kCFVVzqY9y-"
      }
    },
    {
      "cell_type": "markdown",
      "source": [
        "1) map 함수를 사용하여 fruit_list의 과일이름을 fruit_dict의 숫자로 바꾸시오."
      ],
      "metadata": {
        "id": "2jcTZJcJZYQ2"
      }
    },
    {
      "cell_type": "code",
      "source": [
        "def change_list(text:str):\n",
        "  return fruit_dict[text]\n",
        "\n",
        "fruit_list = list(map(change_list, fruit_list))\n",
        "\n",
        "fruit_list"
      ],
      "metadata": {
        "colab": {
          "base_uri": "https://localhost:8080/"
        },
        "id": "b5pt_DmwZUsh",
        "outputId": "a39a1fc7-31f2-499f-bbe1-7f596bdfa607"
      },
      "execution_count": 75,
      "outputs": [
        {
          "output_type": "execute_result",
          "data": {
            "text/plain": [
              "[0, 1, 2, 3, 4]"
            ]
          },
          "metadata": {},
          "execution_count": 75
        }
      ]
    },
    {
      "cell_type": "markdown",
      "source": [
        "## 문제3. \n",
        ">숫자를 과일로 다시 뒤집기"
      ],
      "metadata": {
        "id": "R-rfqPQZY913"
      }
    },
    {
      "cell_type": "code",
      "source": [
        "fruit_dict = {value:key for key, value in fruit_dict.items()}\n",
        "\n",
        "fruit_list = list(map(change_list, fruit_list))\n",
        "fruit_list"
      ],
      "metadata": {
        "colab": {
          "base_uri": "https://localhost:8080/"
        },
        "id": "IbJCc4sdY941",
        "outputId": "591ad64b-504f-4d0b-c3a0-188ccb56d9b1"
      },
      "execution_count": 76,
      "outputs": [
        {
          "output_type": "execute_result",
          "data": {
            "text/plain": [
              "['오렌지', '사과', '딸기', '배', '수박']"
            ]
          },
          "metadata": {},
          "execution_count": 76
        }
      ]
    }
  ]
}